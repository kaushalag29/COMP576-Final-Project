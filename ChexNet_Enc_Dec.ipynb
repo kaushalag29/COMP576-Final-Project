{
 "cells": [
  {
   "cell_type": "markdown",
   "metadata": {
    "id": "ouN4sv3yivi3"
   },
   "source": [
    "# Import Required Modules"
   ]
  },
  {
   "cell_type": "code",
   "execution_count": null,
   "metadata": {
    "executionInfo": {
     "elapsed": 9506,
     "status": "ok",
     "timestamp": 1701571188011,
     "user": {
      "displayName": "Senthil Thanneermalai",
      "userId": "15648280146844306309"
     },
     "user_tz": 360
    },
    "id": "jETA98RMivi5",
    "tags": []
   },
   "outputs": [],
   "source": [
    "import pickle\n",
    "import warnings\n",
    "import numpy as np\n",
    "import pandas as pd\n",
    "from PIL import Image\n",
    "from skimage.transform import resize\n",
    "from tensorflow.keras.applications import densenet\n",
    "from tensorflow.keras.layers import Dense\n",
    "from tensorflow.keras.models import Model\n",
    "from tqdm import tqdm\n",
    "warnings.filterwarnings('ignore')"
   ]
  },
  {
   "cell_type": "code",
   "execution_count": null,
   "metadata": {
    "colab": {
     "base_uri": "https://localhost:8080/"
    },
    "executionInfo": {
     "elapsed": 14771,
     "status": "ok",
     "timestamp": 1701571208279,
     "user": {
      "displayName": "Senthil Thanneermalai",
      "userId": "15648280146844306309"
     },
     "user_tz": 360
    },
    "id": "l5zReUi9i5HF",
    "outputId": "03082588-b4e5-4591-f746-8192be777b8f"
   },
   "outputs": [],
   "source": [
    "from google.colab import drive\n",
    "drive.mount('/content/drive', force_remount = True)"
   ]
  },
  {
   "cell_type": "markdown",
   "metadata": {
    "id": "G-Ma7xXuivi6"
   },
   "source": [
    "# Initialize Train, Test & Cross-Validation Data"
   ]
  },
  {
   "cell_type": "code",
   "execution_count": null,
   "metadata": {
    "executionInfo": {
     "elapsed": 129,
     "status": "ok",
     "timestamp": 1701572309868,
     "user": {
      "displayName": "Senthil Thanneermalai",
      "userId": "15648280146844306309"
     },
     "user_tz": 360
    },
    "id": "5FT0kAtAivi6",
    "tags": []
   },
   "outputs": [],
   "source": [
    "TRAIN_DATA_CSV_PATH = 'train_Data.csv'\n",
    "TEST_DATA_CSV_PATH = 'test_Data.csv'\n",
    "CV_CSV_PATH = 'cv_Data.csv'"
   ]
  },
  {
   "cell_type": "code",
   "execution_count": null,
   "metadata": {
    "executionInfo": {
     "elapsed": 119,
     "status": "ok",
     "timestamp": 1701572310655,
     "user": {
      "displayName": "Senthil Thanneermalai",
      "userId": "15648280146844306309"
     },
     "user_tz": 360
    },
    "id": "o6id_4n8ivi7",
    "tags": []
   },
   "outputs": [],
   "source": [
    "train_dataset = pd.read_csv(TRAIN_DATA_CSV_PATH)\n",
    "test_dataset = pd.read_csv(TEST_DATA_CSV_PATH)\n",
    "cv_dataset = pd.read_csv(CV_CSV_PATH)"
   ]
  },
  {
   "cell_type": "code",
   "execution_count": null,
   "metadata": {
    "executionInfo": {
     "elapsed": 144,
     "status": "ok",
     "timestamp": 1701572314172,
     "user": {
      "displayName": "Senthil Thanneermalai",
      "userId": "15648280146844306309"
     },
     "user_tz": 360
    },
    "id": "j0Vvm7dlivi7",
    "tags": []
   },
   "outputs": [],
   "source": [
    "# Change file path to file name for each image\n",
    "for key in ['Image1', 'Image2']:\n",
    "    train_dataset[key] = train_dataset[key].apply(lambda x: x.split('/')[-1])\n",
    "    test_dataset[key] = test_dataset[key].apply(lambda x: x.split('/')[-1])\n",
    "    cv_dataset[key] = cv_dataset[key].apply(lambda x: x.split('/')[-1])"
   ]
  },
  {
   "cell_type": "markdown",
   "metadata": {
    "id": "sXtV2Dxaivi7"
   },
   "source": [
    "# Load DenseNet121 Model"
   ]
  },
  {
   "cell_type": "code",
   "execution_count": null,
   "metadata": {
    "executionInfo": {
     "elapsed": 3992,
     "status": "ok",
     "timestamp": 1701572324316,
     "user": {
      "displayName": "Senthil Thanneermalai",
      "userId": "15648280146844306309"
     },
     "user_tz": 360
    },
    "id": "MINpN04vivi7",
    "tags": []
   },
   "outputs": [],
   "source": [
    "densenet_121 = densenet.DenseNet121(include_top=False, weights = None, input_shape=(224,224,3), pooling=\"avg\")\n",
    "densenet_output = densenet_121.output\n",
    "densenet_output = Dense(14, activation=\"sigmoid\", name=\"predictions\")(densenet_output)\n",
    "chexnet_model = Model(inputs=densenet_121.input, outputs=densenet_output)"
   ]
  },
  {
   "cell_type": "markdown",
   "metadata": {
    "id": "iLx8QvzNivi7"
   },
   "source": [
    "# Load Pre-Trained Weights & Change Output To Second Last Layer"
   ]
  },
  {
   "cell_type": "code",
   "execution_count": null,
   "metadata": {
    "executionInfo": {
     "elapsed": 771,
     "status": "ok",
     "timestamp": 1701572780123,
     "user": {
      "displayName": "Senthil Thanneermalai",
      "userId": "15648280146844306309"
     },
     "user_tz": 360
    },
    "id": "XKsWirS8ivi8",
    "tags": []
   },
   "outputs": [],
   "source": [
    "# This file holds weights for CheXNet, including the last layer; an extra layer is temporarily added in the preceding cell to accommodate these weights, intended for subsequent removal.\n",
    "CHEXNET_WEIGHT_PATH = 'brucechou1983_CheXNet_Keras_0.3.0_weights.h5'\n",
    "chexnet_model.load_weights(CHEXNET_WEIGHT_PATH)\n",
    "chexnet_model = Model(inputs = chexnet_model.input, outputs = chexnet_model.layers[-2].output)"
   ]
  },
  {
   "cell_type": "markdown",
   "metadata": {
    "id": "FlWLfhmKivi8"
   },
   "source": [
    "# Load, Convert & Resize Image"
   ]
  },
  {
   "cell_type": "code",
   "execution_count": null,
   "metadata": {
    "executionInfo": {
     "elapsed": 125,
     "status": "ok",
     "timestamp": 1701572809845,
     "user": {
      "displayName": "Senthil Thanneermalai",
      "userId": "15648280146844306309"
     },
     "user_tz": 360
    },
    "id": "vnBZ581oivi8",
    "tags": []
   },
   "outputs": [],
   "source": [
    "def load_image(img_path):\n",
    "    loaded_image = Image.open(img_path)\n",
    "    rgb_image = np.asarray(loaded_image.convert(\"RGB\"))\n",
    "    rgb_image = rgb_image / 255.0\n",
    "    rgb_image = resize(rgb_image, (224,224))\n",
    "    resized_image = np.asarray(np.expand_dims(rgb_image, axis=0))\n",
    "    return resized_image"
   ]
  },
  {
   "cell_type": "markdown",
   "metadata": {
    "id": "4SrPqpJHivi8"
   },
   "source": [
    "# Update Image Features"
   ]
  },
  {
   "cell_type": "code",
   "execution_count": null,
   "metadata": {
    "executionInfo": {
     "elapsed": 112,
     "status": "ok",
     "timestamp": 1701572833229,
     "user": {
      "displayName": "Senthil Thanneermalai",
      "userId": "15648280146844306309"
     },
     "user_tz": 360
    },
    "id": "z4fLoa_Givi8",
    "tags": []
   },
   "outputs": [],
   "source": [
    "IMG_DIR = \"Scanned Images/\"\n",
    "def update_image_features_map(features_map, data):\n",
    "    for uid, img1_file, img2_file, report in tqdm(data.values):\n",
    "        img1_path = IMG_DIR + img1_file\n",
    "        img2_path = IMG_DIR + img2_file\n",
    "        loaded_img1 = load_image(img1_path)\n",
    "        loaded_img2 = load_image(img2_path)\n",
    "        img1_features = chexnet_model.predict(loaded_img1)\n",
    "        img2_features = chexnet_model.predict(loaded_img2)\n",
    "        concat_img_feature = np.concatenate((img1_features, img2_features), axis=1)\n",
    "        features_map[uid] = concat_img_feature"
   ]
  },
  {
   "cell_type": "markdown",
   "metadata": {
    "id": "vw358T1Iivi8"
   },
   "source": [
    "# Get Image Features For All Images"
   ]
  },
  {
   "cell_type": "code",
   "execution_count": null,
   "metadata": {
    "executionInfo": {
     "elapsed": 132,
     "status": "ok",
     "timestamp": 1701572835678,
     "user": {
      "displayName": "Senthil Thanneermalai",
      "userId": "15648280146844306309"
     },
     "user_tz": 360
    },
    "id": "wwupHzyYivi8",
    "tags": []
   },
   "outputs": [],
   "source": [
    "def generate_image_features(train_data, test_data, cv_data):\n",
    "    enc_dec_image_features = {}\n",
    "    update_image_features_map(enc_dec_image_features, train_data)\n",
    "    update_image_features_map(enc_dec_image_features, test_data)\n",
    "    update_image_features_map(enc_dec_image_features, cv_data)\n",
    "    return enc_dec_image_features"
   ]
  },
  {
   "cell_type": "code",
   "execution_count": null,
   "metadata": {
    "colab": {
     "background_save": true,
     "base_uri": "https://localhost:8080/",
     "output_embedded_package_id": "1zpmvjWWSEz3YClaryineImNr5auiJyNy"
    },
    "id": "o6XqV0SIivi9",
    "outputId": "ad4a1a2f-be4f-4a8c-a8ad-f69df7a81d8e",
    "tags": []
   },
   "outputs": [],
   "source": [
    "enc_dec_image_features = generate_image_features(train_dataset, test_dataset, cv_dataset)"
   ]
  },
  {
   "cell_type": "markdown",
   "metadata": {
    "id": "rKBFo5o5ivi9"
   },
   "source": [
    "# Save Pickle File For Generated Image Features For Future Usage"
   ]
  },
  {
   "cell_type": "code",
   "execution_count": null,
   "metadata": {
    "id": "SUmIR2Miivi9",
    "tags": []
   },
   "outputs": [],
   "source": [
    "SAVE_FILE_PATH = 'Image_Features_Enc_Dec.pickle'\n",
    "with open(SAVE_FILE_PATH, 'wb') as file:\n",
    "    pickle.dump(enc_dec_image_features, file)"
   ]
  },
  {
   "cell_type": "code",
   "execution_count": null,
   "metadata": {},
   "outputs": [],
   "source": []
  }
 ],
 "metadata": {
  "colab": {
   "name": "",
   "version": ""
  },
  "kernelspec": {
   "display_name": "Python 3 (ipykernel)",
   "language": "python",
   "name": "python3"
  },
  "language_info": {
   "codemirror_mode": {
    "name": "ipython",
    "version": 3
   },
   "file_extension": ".py",
   "mimetype": "text/x-python",
   "name": "python",
   "nbconvert_exporter": "python",
   "pygments_lexer": "ipython3",
   "version": "3.11.4"
  }
 },
 "nbformat": 4,
 "nbformat_minor": 4
}
