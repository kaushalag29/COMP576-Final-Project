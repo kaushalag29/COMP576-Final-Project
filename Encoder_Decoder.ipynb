{
 "cells": [
  {
   "cell_type": "code",
   "execution_count": null,
   "metadata": {
    "id": "yvYOwPaCg6yj",
    "tags": [],
    "executionInfo": {
     "status": "ok",
     "timestamp": 1702433991746,
     "user_tz": 360,
     "elapsed": 4464,
     "user": {
      "displayName": "Senthil Thanneermalai",
      "userId": "15648280146844306309"
     }
    }
   },
   "outputs": [],
   "source": [
    "import datetime\n",
    "import pickle\n",
    "import random\n",
    "import time\n",
    "import warnings\n",
    "\n",
    "import numpy as np\n",
    "import pandas as pd\n",
    "import tensorflow as tf\n",
    "from nltk.translate.bleu_score import sentence_bleu\n",
    "from tensorflow.keras.layers import Dense, LSTM, SimpleRNN, Input, Embedding, Dropout, Bidirectional, GRU\n",
    "from tensorflow.keras.models import Model\n",
    "from tensorflow.keras.preprocessing.sequence import pad_sequences\n",
    "from tensorflow.keras.preprocessing.text import Tokenizer\n",
    "from tqdm import tqdm\n",
    "warnings.filterwarnings('ignore')"
   ]
  },
  {
   "cell_type": "code",
   "execution_count": null,
   "metadata": {
    "colab": {
     "base_uri": "https://localhost:8080/"
    },
    "executionInfo": {
     "elapsed": 16938,
     "status": "ok",
     "timestamp": 1702433984687,
     "user": {
      "displayName": "Senthil Thanneermalai",
      "userId": "15648280146844306309"
     },
     "user_tz": 360
    },
    "id": "LkWOyRY4hCxo",
    "outputId": "f44d475a-69fb-4249-8e03-5198409478fd"
   },
   "outputs": [],
   "source": [
    "from google.colab import drive\n",
    "drive.mount('/content/drive', force_remount = True)"
   ]
  },
  {
   "cell_type": "code",
   "execution_count": null,
   "metadata": {
    "id": "GXuhfpegg6yl",
    "tags": [],
    "executionInfo": {
     "status": "ok",
     "timestamp": 1702433998336,
     "user_tz": 360,
     "elapsed": 1633,
     "user": {
      "displayName": "Senthil Thanneermalai",
      "userId": "15648280146844306309"
     }
    }
   },
   "outputs": [],
   "source": [
    "TRAIN_DATA_PATH = 'drive/MyDrive/COMP 576 Final Project/train_Data.csv'\n",
    "TEST_DATA_PATH = 'drive/MyDrive/COMP 576 Final Project/test_Data.csv'\n",
    "CV_DATA_PATH = 'drive/MyDrive/COMP 576 Final Project/cv_Data.csv'\n",
    "PAD_SIZE = 167\n",
    "BATCH_SIZE = 14\n",
    "train_dataset = pd.read_csv(TRAIN_DATA_PATH)\n",
    "test_dataset = pd.read_csv(TEST_DATA_PATH)\n",
    "cv_dataset = pd.read_csv(CV_DATA_PATH)"
   ]
  },
  {
   "cell_type": "code",
   "execution_count": null,
   "metadata": {
    "id": "ATueaCJ5g6yl",
    "tags": [],
    "executionInfo": {
     "status": "ok",
     "timestamp": 1702434000243,
     "user_tz": 360,
     "elapsed": 148,
     "user": {
      "displayName": "Senthil Thanneermalai",
      "userId": "15648280146844306309"
     }
    }
   },
   "outputs": [],
   "source": [
    "X_train, X_test, X_cv = train_dataset['Person_id'], test_dataset['Person_id'], cv_dataset['Person_id']\n",
    "y_train, y_test, y_cv = train_dataset['Report'], test_dataset['Report'], cv_dataset['Report']"
   ]
  },
  {
   "cell_type": "code",
   "execution_count": null,
   "metadata": {
    "id": "LybnVNEfg6ym",
    "tags": [],
    "executionInfo": {
     "status": "ok",
     "timestamp": 1702434001695,
     "user_tz": 360,
     "elapsed": 133,
     "user": {
      "displayName": "Senthil Thanneermalai",
      "userId": "15648280146844306309"
     }
    }
   },
   "outputs": [],
   "source": [
    "tokenizer = Tokenizer(filters='!\"#$%&()*+,-/:;<=>?@[\\\\]^_`{|}~\\t\\n')\n",
    "tokenizer.fit_on_texts(y_train.values)\n",
    "VOCAB_SIZE = len(tokenizer.word_index.keys()) + 1"
   ]
  },
  {
   "cell_type": "code",
   "execution_count": null,
   "metadata": {
    "id": "a5-1Lapxg6ym",
    "tags": [],
    "executionInfo": {
     "status": "ok",
     "timestamp": 1702434005284,
     "user_tz": 360,
     "elapsed": 1892,
     "user": {
      "displayName": "Senthil Thanneermalai",
      "userId": "15648280146844306309"
     }
    }
   },
   "outputs": [],
   "source": [
    "IMG_FEATURES_ENC_DEC_FILE_PATH = 'drive/MyDrive/COMP 576 Final Project/Image_Features_Enc_Dec.pickle'\n",
    "image_features = {}\n",
    "with open(IMG_FEATURES_ENC_DEC_FILE_PATH, 'rb') as file:\n",
    "    image_features = pickle.load(file)"
   ]
  },
  {
   "cell_type": "code",
   "execution_count": null,
   "metadata": {
    "id": "UQt7IM3sg6ym",
    "tags": [],
    "executionInfo": {
     "status": "ok",
     "timestamp": 1702434012197,
     "user_tz": 360,
     "elapsed": 134,
     "user": {
      "displayName": "Senthil Thanneermalai",
      "userId": "15648280146844306309"
     }
    }
   },
   "outputs": [],
   "source": [
    "word_to_idx_map = tokenizer.word_index\n"
   ]
  },
  {
   "cell_type": "markdown",
   "source": [],
   "metadata": {
    "id": "oK5nOeOHDLNC"
   }
  },
  {
   "cell_type": "code",
   "execution_count": null,
   "metadata": {
    "id": "KIDlgFSag6ym",
    "tags": [],
    "executionInfo": {
     "status": "ok",
     "timestamp": 1702434022444,
     "user_tz": 360,
     "elapsed": 125,
     "user": {
      "displayName": "Senthil Thanneermalai",
      "userId": "15648280146844306309"
     }
    }
   },
   "outputs": [],
   "source": [
    "def load_image(uid, report):\n",
    "    img_feature = image_features[uid.decode('utf-8')][0]\n",
    "    return img_feature, report"
   ]
  },
  {
   "cell_type": "code",
   "execution_count": null,
   "metadata": {
    "id": "SAVVMKmRg6yn",
    "tags": [],
    "executionInfo": {
     "status": "ok",
     "timestamp": 1702434024687,
     "user_tz": 360,
     "elapsed": 141,
     "user": {
      "displayName": "Senthil Thanneermalai",
      "userId": "15648280146844306309"
     }
    }
   },
   "outputs": [],
   "source": [
    "def get_dataset_generator(img_uid, report):\n",
    "    dataset = tf.data.Dataset.from_tensor_slices((img_uid, report))\n",
    "    dataset = dataset.map(lambda item1, item2: tf.numpy_function(load_image, [item1, item2], [tf.float32, tf.string]),\n",
    "                          num_parallel_calls=tf.data.experimental.AUTOTUNE)\n",
    "    dataset = dataset.shuffle(500).batch(BATCH_SIZE).prefetch(buffer_size=tf.data.experimental.AUTOTUNE)\n",
    "    return dataset"
   ]
  },
  {
   "cell_type": "code",
   "execution_count": null,
   "metadata": {
    "id": "TRkdbWglg6yn",
    "tags": [],
    "executionInfo": {
     "status": "ok",
     "timestamp": 1702434028883,
     "user_tz": 360,
     "elapsed": 2859,
     "user": {
      "displayName": "Senthil Thanneermalai",
      "userId": "15648280146844306309"
     }
    }
   },
   "outputs": [],
   "source": [
    "train_dataset = get_dataset_generator(X_train, y_train)\n",
    "cv_dataset = get_dataset_generator(X_cv, y_cv)"
   ]
  },
  {
   "cell_type": "code",
   "execution_count": null,
   "metadata": {
    "id": "KC1h2o09g6yn",
    "tags": [],
    "executionInfo": {
     "status": "ok",
     "timestamp": 1702434034872,
     "user_tz": 360,
     "elapsed": 162,
     "user": {
      "displayName": "Senthil Thanneermalai",
      "userId": "15648280146844306309"
     }
    }
   },
   "outputs": [],
   "source": [
    "def bytes_to_string(bytes):\n",
    "    return [byte.decode('utf-8') for byte in bytes]"
   ]
  },
  {
   "cell_type": "code",
   "execution_count": null,
   "metadata": {
    "id": "6_0q5gx6g6yn",
    "tags": [],
    "executionInfo": {
     "status": "ok",
     "timestamp": 1702434051285,
     "user_tz": 360,
     "elapsed": 125,
     "user": {
      "displayName": "Senthil Thanneermalai",
      "userId": "15648280146844306309"
     }
    }
   },
   "outputs": [],
   "source": [
    "def convert(images, reports):\n",
    "    img_vectors = []\n",
    "    inp_report_seq = []\n",
    "    pred_report_seq = []\n",
    "    for i in range(len(images)):\n",
    "        sequence = [word_to_idx_map[word] for word in reports[i].split() if word in word_to_idx_map.keys()]\n",
    "        for j in range(1,len(sequence)):\n",
    "            inp_seq = sequence[:j]\n",
    "            pred_seq = sequence[j]\n",
    "            pred_cat_seq = tf.keras.utils.to_categorical(pred_seq, num_classes=VOCAB_SIZE)\n",
    "            img_vectors.append(images[i])\n",
    "            inp_report_seq.append(inp_seq)\n",
    "            pred_report_seq.append(pred_cat_seq)\n",
    "    inp_report_seq = pad_sequences(inp_report_seq, maxlen=PAD_SIZE, padding='post')\n",
    "    return np.array(img_vectors), np.array(inp_report_seq), np.array(pred_report_seq)"
   ]
  },
  {
   "cell_type": "code",
   "execution_count": null,
   "metadata": {
    "id": "KFOocGgtg6yn",
    "tags": [],
    "executionInfo": {
     "status": "ok",
     "timestamp": 1702434059559,
     "user_tz": 360,
     "elapsed": 137,
     "user": {
      "displayName": "Senthil Thanneermalai",
      "userId": "15648280146844306309"
     }
    }
   },
   "outputs": [],
   "source": [
    "np.random.seed(42)\n",
    "tf.random.set_seed(32)\n",
    "random.seed(12)"
   ]
  },
  {
   "cell_type": "code",
   "execution_count": null,
   "metadata": {
    "id": "DChjGelug6yn",
    "outputId": "33701102-0269-47c6-f6ca-cfef2ab21f51",
    "tags": [],
    "colab": {
     "base_uri": "https://localhost:8080/"
    },
    "executionInfo": {
     "status": "ok",
     "timestamp": 1702434067942,
     "user_tz": 360,
     "elapsed": 3356,
     "user": {
      "displayName": "Senthil Thanneermalai",
      "userId": "15648280146844306309"
     }
    }
   },
   "outputs": [],
   "source": [
    "input1 = Input(shape=(2048), name='Image_Input')\n",
    "dense1 = Dense(256, kernel_initializer=tf.keras.initializers.glorot_uniform(seed = 56), name='Encoded_Image')(input1)\n",
    "\n",
    "input2 = Input(shape=(PAD_SIZE), name='Report_Input')\n",
    "emb_layer = Embedding(input_dim = VOCAB_SIZE, output_dim = 300, input_length=PAD_SIZE, mask_zero=True, trainable=False,\n",
    "                name=\"Embedding_Layer\")\n",
    "emb = emb_layer(input2)\n",
    "\n",
    "LSTM1 = GRU(units=256, activation='tanh', recurrent_activation='sigmoid', use_bias=True,\n",
    "            kernel_initializer=tf.keras.initializers.glorot_uniform(seed=23),\n",
    "            recurrent_initializer=tf.keras.initializers.orthogonal(seed=7),\n",
    "            bias_initializer=tf.keras.initializers.zeros(), return_sequences=True, name=\"GRU1\")(emb)\n",
    "\n",
    "LSTM2 = GRU(units=256, activation='tanh', recurrent_activation='sigmoid', use_bias=True,\n",
    "            kernel_initializer=tf.keras.initializers.glorot_uniform(seed=23),\n",
    "            recurrent_initializer=tf.keras.initializers.orthogonal(seed=7),\n",
    "            bias_initializer=tf.keras.initializers.zeros(), name=\"GRU2\")\n",
    "LSTM2_output = LSTM2(LSTM1)\n",
    "\n",
    "dropout1 = Dropout(0.5, name='Dropout')(LSTM2_output)\n",
    "\n",
    "dec =  tf.keras.layers.Add()([dense1, dropout1])\n",
    "\n",
    "fc1 = Dense(256, activation='relu', kernel_initializer=tf.keras.initializers.he_normal(seed=63), name='FC1')\n",
    "fc1_output = fc1(dec)\n",
    "output_layer = Dense(VOCAB_SIZE, activation='softmax', name='Final_Output')\n",
    "output = output_layer(fc1_output)\n",
    "\n",
    "encoder_decoder = Model(inputs = [input1, input2], outputs = output)\n",
    "encoder_decoder.summary()"
   ]
  },
  {
   "cell_type": "code",
   "source": [
    "from tensorflow.keras.utils import plot_model\n",
    "plot_model(encoder_decoder, show_shapes=True, show_layer_names=True)"
   ],
   "metadata": {
    "colab": {
     "base_uri": "https://localhost:8080/",
     "height": 865
    },
    "id": "z4XHNv6pNej2",
    "executionInfo": {
     "status": "ok",
     "timestamp": 1702434072917,
     "user_tz": 360,
     "elapsed": 315,
     "user": {
      "displayName": "Senthil Thanneermalai",
      "userId": "15648280146844306309"
     }
    },
    "outputId": "fc889dda-a129-4142-991d-376796deda4a"
   },
   "execution_count": null,
   "outputs": []
  },
  {
   "cell_type": "code",
   "execution_count": null,
   "metadata": {
    "id": "NtbZdUN1g6yo",
    "tags": [],
    "executionInfo": {
     "status": "ok",
     "timestamp": 1702434075108,
     "user_tz": 360,
     "elapsed": 114,
     "user": {
      "displayName": "Senthil Thanneermalai",
      "userId": "15648280146844306309"
     }
    }
   },
   "outputs": [],
   "source": [
    "optimizer = tf.keras.optimizers.legacy.Adam(0.001)"
   ]
  },
  {
   "cell_type": "code",
   "execution_count": null,
   "metadata": {
    "id": "FV2VjUyrg6yo",
    "tags": [],
    "executionInfo": {
     "status": "ok",
     "timestamp": 1702434079080,
     "user_tz": 360,
     "elapsed": 125,
     "user": {
      "displayName": "Senthil Thanneermalai",
      "userId": "15648280146844306309"
     }
    }
   },
   "outputs": [],
   "source": [
    "loss_function = tf.keras.losses.CategoricalCrossentropy(from_logits=False, reduction='auto')\n",
    "def get_final_masked_loss(y_true, y_pred):\n",
    "    mask = tf.math.logical_not(tf.math.equal(y_true, 0))\n",
    "    loss = loss_function(y_true, y_pred)\n",
    "    mask = tf.cast(mask, dtype=loss.dtype)\n",
    "    loss = loss * mask\n",
    "    final_loss = tf.reduce_mean(loss)\n",
    "    return final_loss"
   ]
  },
  {
   "cell_type": "code",
   "execution_count": null,
   "metadata": {
    "id": "BpxuX44Xg6yo",
    "tags": [],
    "executionInfo": {
     "status": "ok",
     "timestamp": 1702434080248,
     "user_tz": 360,
     "elapsed": 130,
     "user": {
      "displayName": "Senthil Thanneermalai",
      "userId": "15648280146844306309"
     }
    }
   },
   "outputs": [],
   "source": [
    "encoder_decoder.compile(optimizer, loss=get_final_masked_loss)"
   ]
  },
  {
   "cell_type": "code",
   "execution_count": null,
   "metadata": {
    "id": "eMDZz6jOg6yp",
    "tags": [],
    "executionInfo": {
     "status": "ok",
     "timestamp": 1702434567875,
     "user_tz": 360,
     "elapsed": 118,
     "user": {
      "displayName": "Senthil Thanneermalai",
      "userId": "15648280146844306309"
     }
    }
   },
   "outputs": [],
   "source": [
    "current_time = datetime.datetime.now().strftime(\"%Y%m%d-%H%M%S\")\n",
    "TRAIN_LOG_DIR = 'Tensorboard/logs/' + current_time + '/train'\n",
    "VAL_LOG_DIR = 'Tensorboard/logs/' + current_time + '/test'\n",
    "train_summary_writer = tf.summary.create_file_writer(TRAIN_LOG_DIR)\n",
    "val_summary_writer = tf.summary.create_file_writer(VAL_LOG_DIR)\n",
    "WEIGHTS_TO_SAVE_DIR = \"data/\"\n",
    "EPOCHS = 40"
   ]
  },
  {
   "cell_type": "code",
   "source": [
    "%cd data"
   ],
   "metadata": {
    "colab": {
     "base_uri": "https://localhost:8080/"
    },
    "id": "cqtGJWQZhmSp",
    "executionInfo": {
     "status": "ok",
     "timestamp": 1702434465971,
     "user_tz": 360,
     "elapsed": 122,
     "user": {
      "displayName": "Senthil Thanneermalai",
      "userId": "15648280146844306309"
     }
    },
    "outputId": "b8575c89-8146-4402-ec9a-47de98fa8d28"
   },
   "execution_count": null,
   "outputs": []
  },
  {
   "cell_type": "code",
   "source": [
    "%ls"
   ],
   "metadata": {
    "colab": {
     "base_uri": "https://localhost:8080/"
    },
    "id": "dqANPFTqjSdt",
    "executionInfo": {
     "status": "ok",
     "timestamp": 1702434560869,
     "user_tz": 360,
     "elapsed": 141,
     "user": {
      "displayName": "Senthil Thanneermalai",
      "userId": "15648280146844306309"
     }
    },
    "outputId": "b397a031-f663-4e12-ed4d-c1a4fd66c4c7"
   },
   "execution_count": null,
   "outputs": []
  },
  {
   "cell_type": "markdown",
   "metadata": {
    "id": "3EDD27nag6yp"
   },
   "source": [
    "# Training for epochs 1-20"
   ]
  },
  {
   "cell_type": "code",
   "execution_count": null,
   "metadata": {
    "id": "4Kq3ivEag6yq",
    "is_executing": true,
    "scrolled": true,
    "tags": []
   },
   "outputs": [],
   "source": [
    "epoch_train_loss = []\n",
    "epoch_val_loss = []\n",
    "\n",
    "def calculate_loss(img, report):\n",
    "    report_in_str = bytes_to_string(report.numpy())\n",
    "    img_input, rep_input, pred_output = convert(img.numpy(), report_in_str)\n",
    "    result = encoder_decoder.train_on_batch([img_input, rep_input], pred_output)\n",
    "    return result\n",
    "\n",
    "for epoch in range(EPOCHS):\n",
    "    print('EPOCH : ', epoch+1)\n",
    "    start = time.time()\n",
    "    batch_loss_tr = 0\n",
    "    batch_loss_vl = 0\n",
    "\n",
    "    for img, report in train_dataset:\n",
    "        batch_loss_tr += calculate_loss(img, report)\n",
    "\n",
    "    train_loss = batch_loss_tr/(X_train.shape[0]//BATCH_SIZE)\n",
    "    with train_summary_writer.as_default():\n",
    "        tf.summary.scalar('loss', train_loss, step=epoch)\n",
    "\n",
    "    for img, report in cv_dataset:\n",
    "        batch_loss_vl += calculate_loss(img, report)\n",
    "\n",
    "    val_loss = batch_loss_vl/(X_cv.shape[0]//BATCH_SIZE)\n",
    "\n",
    "    with val_summary_writer.as_default():\n",
    "        tf.summary.scalar('loss', val_loss, step=epoch)\n",
    "\n",
    "    epoch_train_loss.append(train_loss)\n",
    "    epoch_val_loss.append(val_loss)\n",
    "\n",
    "    print('Training Loss: {},  Val Loss: {}'.format(train_loss, val_loss))\n",
    "    print('Time Taken for this Epoch : {} sec'.format(time.time() - start))\n",
    "    encoder_decoder.save_weights('{}/encoder_decoder_epoch_{}.h5'.format(WEIGHTS_TO_SAVE_DIR, epoch + 1))"
   ]
  },
  {
   "cell_type": "markdown",
   "metadata": {
    "id": "HhzKJm-rg6yq"
   },
   "source": [
    "# Inference Setup"
   ]
  },
  {
   "cell_type": "code",
   "source": [
    "weights_file = '{}/encoder_decoder_epoch_{}.h5'.format(WEIGHTS_TO_SAVE_DIR, 4)\n",
    "encoder_decoder.load_weights(weights_file)\n",
    "\n",
    "# encoder model\n",
    "encoder_input = encoder_decoder.input[0]\n",
    "encoder_output = encoder_decoder.get_layer('Encoded_Image').output\n",
    "encoder_model = Model(encoder_input, encoder_output)\n",
    "\n",
    "# decoder model\n",
    "text_input = encoder_decoder.input[1]\n",
    "enc_output = Input(shape=(256,), name='Enc_Output')\n",
    "\n",
    "text_output = encoder_decoder.get_layer('GRU2').output\n",
    "addition_layer = tf.keras.layers.Add()([text_output, enc_output])\n",
    "fc_layer = fc1(addition_layer)\n",
    "decoder_output = output_layer(fc_layer)\n",
    "\n",
    "decoder_model = Model(inputs=[text_input, enc_output], outputs=decoder_output)\n"
   ],
   "metadata": {
    "id": "EJnBJ1gJyMAy",
    "executionInfo": {
     "status": "ok",
     "timestamp": 1702434812833,
     "user_tz": 360,
     "elapsed": 209,
     "user": {
      "displayName": "Senthil Thanneermalai",
      "userId": "15648280146844306309"
     }
    }
   },
   "execution_count": null,
   "outputs": []
  },
  {
   "cell_type": "markdown",
   "metadata": {
    "id": "f-G_Esuhg6yq"
   },
   "source": [
    "# Greedy Search"
   ]
  },
  {
   "cell_type": "code",
   "source": [
    "def greedy_search(img_uid):\n",
    "    image = image_features[img_uid]\n",
    "    input_seq = 'startseq'\n",
    "    pred_features = encoder_model.predict(image)\n",
    "    end_seq_token = 7\n",
    "    result = []\n",
    "\n",
    "    for _ in range(PAD_SIZE):\n",
    "      input_tok = []\n",
    "      for w in input_seq.split():\n",
    "        input_tok.append(word_to_idx_map[w])\n",
    "      input_padded = pad_sequences([input_tok], PAD_SIZE, padding='post')\n",
    "      predictions = decoder_model.predict([input_padded, pred_features])\n",
    "      arg_max = np.argmax(predictions)\n",
    "\n",
    "      if arg_max != end_seq_token:\n",
    "          next_word = tokenizer.index_word[arg_max]\n",
    "          result.append(next_word)\n",
    "          input_seq = input_seq + ' ' + next_word\n",
    "      else:\n",
    "          break\n",
    "\n",
    "    pred = ' '.join(result)\n",
    "    return pred"
   ],
   "metadata": {
    "id": "i9Da45v2y7Mj",
    "executionInfo": {
     "status": "ok",
     "timestamp": 1702434817379,
     "user_tz": 360,
     "elapsed": 160,
     "user": {
      "displayName": "Senthil Thanneermalai",
      "userId": "15648280146844306309"
     }
    }
   },
   "execution_count": null,
   "outputs": []
  },
  {
   "cell_type": "markdown",
   "metadata": {
    "id": "ehxgrrUWg6yq"
   },
   "source": [
    "# Eg: 1"
   ]
  },
  {
   "cell_type": "code",
   "execution_count": null,
   "metadata": {
    "id": "Yt8A7vPUg6yq",
    "tags": []
   },
   "outputs": [],
   "source": [
    "res_36 = greedy_search(X_cv.values[36]) # result after 20 epochs\n",
    "res_36"
   ]
  },
  {
   "cell_type": "markdown",
   "metadata": {
    "id": "D-psuQFtg6yq"
   },
   "source": [
    "## BLEU SCORE"
   ]
  },
  {
   "cell_type": "code",
   "execution_count": null,
   "metadata": {
    "id": "E2j0kSkNg6yr",
    "tags": [],
    "executionInfo": {
     "status": "ok",
     "timestamp": 1702434836799,
     "user_tz": 360,
     "elapsed": 129,
     "user": {
      "displayName": "Senthil Thanneermalai",
      "userId": "15648280146844306309"
     }
    }
   },
   "outputs": [],
   "source": [
    "def remove_fullstops(text):\n",
    "    \"\"\"Removes punctuations like full stops\"\"\"\n",
    "    return ' '.join(text.replace('''.''', \"\").split())"
   ]
  },
  {
   "cell_type": "markdown",
   "metadata": {
    "id": "jvMOzuUvg6yr"
   },
   "source": [
    "## CV BLEU"
   ]
  },
  {
   "cell_type": "code",
   "source": [
    "bleu_weights = [(1, 0, 0, 0), (0.5, 0.5, 0, 0), (0.33, 0.33, 0.33, 0), (0.25, 0.25, 0.25, 0.25)]\n",
    "\n",
    "bleu_scores = {i: [] for i in range(1, 5)}\n",
    "\n",
    "for img, rep in tqdm(zip(X_cv.values, y_cv.values)):\n",
    "    rep = remove_fullstops(rep).split()[1:-1]\n",
    "    rep = ' '.join(rep)\n",
    "\n",
    "    pred_rep = remove_fullstops(beamsearch(img, 5)[0])\n",
    "\n",
    "    reference = rep.split()\n",
    "    candidate = pred_rep.split()\n",
    "\n",
    "    for i, weight in enumerate(bleu_weights, start=1):\n",
    "        bleu_scores[i].append(sentence_bleu([reference], candidate, weights=weight))\n",
    "\n",
    "bleu1, bleu2, bleu3, bleu4 = bleu_scores[1], bleu_scores[2], bleu_scores[3], bleu_scores[4]"
   ],
   "metadata": {
    "id": "xSRlRJVr8PCb"
   },
   "execution_count": null,
   "outputs": []
  },
  {
   "cell_type": "code",
   "execution_count": null,
   "metadata": {
    "id": "E6yZJIZ3g6yr",
    "tags": [],
    "outputId": "5fe1e1a9-d607-4fa0-d9e4-7f28ef92c723",
    "colab": {
     "base_uri": "https://localhost:8080/"
    },
    "executionInfo": {
     "status": "ok",
     "timestamp": 1701802827908,
     "user_tz": 360,
     "elapsed": 413,
     "user": {
      "displayName": "Senthil Thanneermalai",
      "userId": "15648280146844306309"
     }
    }
   },
   "outputs": [],
   "source": [
    "print('Bleu1 Score: ', sum(bleu1)/X_cv.shape[0])\n",
    "print('Bleu2 Score: ', sum(bleu2)/X_cv.shape[0])\n",
    "print('Bleu3 Score: ', sum(bleu3)/X_cv.shape[0])\n",
    "print('Bleu4 Score: ', sum(bleu4)/X_cv.shape[0])"
   ]
  },
  {
   "cell_type": "markdown",
   "metadata": {
    "id": "zCSAq-Rog6yr"
   },
   "source": [
    "## Test BLEU"
   ]
  },
  {
   "cell_type": "code",
   "source": [
    "bleu_weights = [(1, 0, 0, 0), (0.5, 0.5, 0, 0), (0.33, 0.33, 0.33, 0), (0.25, 0.25, 0.25, 0.25)]\n",
    "\n",
    "bleu_scores = {i: [] for i in range(1, 5)}\n",
    "\n",
    "for img, rep in tqdm(zip(X_test.values, y_test.values)):\n",
    "    rep = ' '.join(remove_fullstops(rep).split()[1:-1])\n",
    "\n",
    "    pred_rep = remove_fullstops(greedy_search(img))\n",
    "\n",
    "    reference = rep.split()\n",
    "    candidate = pred_rep.split()\n",
    "\n",
    "    for i, weight in enumerate(bleu_weights, start=1):\n",
    "        bleu_scores[i].append(sentence_bleu([reference], candidate, weights=weight))\n",
    "\n",
    "bleu1, bleu2, bleu3, bleu4 = bleu_scores[1], bleu_scores[2], bleu_scores[3], bleu_scores[4]"
   ],
   "metadata": {
    "id": "N0f_mZgn8wkO"
   },
   "execution_count": null,
   "outputs": []
  },
  {
   "cell_type": "code",
   "execution_count": null,
   "metadata": {
    "id": "cWP-02fZg6yr"
   },
   "outputs": [],
   "source": [
    "print('Bleu1 Score: ', sum(bleu1)/X_test.shape[0])\n",
    "print('Bleu2 Score: ', sum(bleu2)/X_test.shape[0])\n",
    "print('Bleu3 Score: ', sum(bleu3)/X_test.shape[0])\n",
    "print('Bleu4 Score: ', sum(bleu4)/X_test.shape[0])"
   ]
  },
  {
   "cell_type": "markdown",
   "metadata": {
    "id": "EpRC7cZsg6yr"
   },
   "source": [
    "### Beam Search"
   ]
  },
  {
   "cell_type": "code",
   "source": [
    "def beamsearch(image, beam_width):\n",
    "    start = [word_to_idx_map['startseq']]\n",
    "    sequences = [[start, 0]]\n",
    "\n",
    "    img_features = encoder_model.predict(image_features[image])\n",
    "\n",
    "    finished_seq = []\n",
    "\n",
    "    for i in range(PAD_SIZE):\n",
    "        all_candidates = []\n",
    "        new_seq = []\n",
    "        for s in sequences:\n",
    "            text_input = pad_sequences([s[0]], PAD_SIZE, padding='post')\n",
    "            predictions = decoder_model.predict([text_input, img_features])\n",
    "            top_words = np.argsort(predictions[0])[-beam_width:]\n",
    "            seq, score = s\n",
    "\n",
    "            for t in top_words:\n",
    "                candidates = [seq + [t], score - np.log(predictions[0][t])]\n",
    "                all_candidates.append(candidates)\n",
    "\n",
    "        sequences = sorted(all_candidates, key=lambda l: l[1])[:beam_width]\n",
    "\n",
    "        count = 0\n",
    "        for seq, score in sequences:\n",
    "            if seq[-1] == word_to_idx_map['endseq']:\n",
    "                score = score / len(seq)  # normalized\n",
    "                finished_seq.append([seq, score])\n",
    "                count += 1\n",
    "            else:\n",
    "                new_seq.append([seq, score])\n",
    "\n",
    "        beam_width -= count\n",
    "        sequences = new_seq\n",
    "\n",
    "        if not sequences:\n",
    "            break\n",
    "\n",
    "    sequences = finished_seq[-1]\n",
    "    rep = sequences[0]\n",
    "    score = sequences[1]\n",
    "\n",
    "    rep = [tokenizer.index_word[word] for word in rep if word != word_to_idx_map['endseq']]\n",
    "    rep = ' '.join(rep)\n",
    "\n",
    "    return rep, score\n"
   ],
   "metadata": {
    "id": "PBSQcQl59RoE",
    "executionInfo": {
     "status": "ok",
     "timestamp": 1702434878899,
     "user_tz": 360,
     "elapsed": 126,
     "user": {
      "displayName": "Senthil Thanneermalai",
      "userId": "15648280146844306309"
     }
    }
   },
   "execution_count": null,
   "outputs": []
  },
  {
   "cell_type": "markdown",
   "metadata": {
    "id": "fWUnxbjwg6ys"
   },
   "source": [
    "# Example 1"
   ]
  },
  {
   "cell_type": "code",
   "execution_count": null,
   "metadata": {
    "id": "KiL71n6Zg6ys",
    "tags": []
   },
   "outputs": [],
   "source": [
    "res0 = beamsearch(X_cv.values[0], 5) # beam_width = 5\n",
    "res0"
   ]
  }
 ],
 "metadata": {
  "colab": {
   "provenance": [],
   "gpuType": "T4"
  },
  "kernelspec": {
   "display_name": "Python 3",
   "name": "python3"
  },
  "language_info": {
   "codemirror_mode": {
    "name": "ipython",
    "version": 3
   },
   "file_extension": ".py",
   "mimetype": "text/x-python",
   "name": "python",
   "nbconvert_exporter": "python",
   "pygments_lexer": "ipython3",
   "version": "3.11.4"
  },
  "accelerator": "GPU"
 },
 "nbformat": 4,
 "nbformat_minor": 0
}
