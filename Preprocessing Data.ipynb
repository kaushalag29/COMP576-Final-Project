{
 "cells": [
  {
   "cell_type": "code",
   "execution_count": null,
   "metadata": {
    "executionInfo": {
     "elapsed": 10161,
     "status": "ok",
     "timestamp": 1701570320862,
     "user": {
      "displayName": "Senthil Thanneermalai",
      "userId": "15648280146844306309"
     },
     "user_tz": 360
    },
    "id": "Zz8gtpqMHXTm",
    "tags": []
   },
   "outputs": [],
   "source": [
    "import numpy as np\n",
    "import pandas as pd\n",
    "import matplotlib.pyplot as plt\n",
    "import seaborn as sns\n",
    "from tqdm import tqdm\n",
    "import xml.etree.ElementTree as ET\n",
    "import os\n",
    "import cv2\n",
    "import tensorflow as tf\n",
    "from wordcloud import WordCloud\n",
    "import re\n",
    "from collections import defaultdict\n",
    "import itertools\n",
    "from collections import Counter"
   ]
  },
  {
   "cell_type": "code",
   "execution_count": null,
   "metadata": {
    "colab": {
     "base_uri": "https://localhost:8080/"
    },
    "executionInfo": {
     "elapsed": 2291,
     "status": "ok",
     "timestamp": 1701570323149,
     "user": {
      "displayName": "Senthil Thanneermalai",
      "userId": "15648280146844306309"
     },
     "user_tz": 360
    },
    "id": "iZcrJf3iHbHb",
    "outputId": "7aa8b057-3499-472c-c8c3-5a5670e09255",
    "tags": []
   },
   "outputs": [],
   "source": [
    "from google.colab import drive\n",
    "drive.mount('/content/drive', force_remount = True)"
   ]
  },
  {
   "cell_type": "code",
   "execution_count": null,
   "metadata": {
    "colab": {
     "base_uri": "https://localhost:8080/"
    },
    "executionInfo": {
     "elapsed": 130,
     "status": "ok",
     "timestamp": 1701570455468,
     "user": {
      "displayName": "Senthil Thanneermalai",
      "userId": "15648280146844306309"
     },
     "user_tz": 360
    },
    "id": "PqDIB5M_Hj3K",
    "outputId": "6e2381eb-7828-4a30-d73e-1cd24ef38c28"
   },
   "outputs": [],
   "source": [
    "%cd '/content/drive/MyDrive/COMP 576 Final Project'"
   ]
  },
  {
   "cell_type": "code",
   "execution_count": null,
   "metadata": {
    "executionInfo": {
     "elapsed": 116,
     "status": "ok",
     "timestamp": 1701570459211,
     "user": {
      "displayName": "Senthil Thanneermalai",
      "userId": "15648280146844306309"
     },
     "user_tz": 360
    },
    "id": "pyoWggsxHXTo",
    "tags": []
   },
   "outputs": [],
   "source": [
    "dataset = pd.read_csv(\"Image-Report.csv\")"
   ]
  },
  {
   "cell_type": "code",
   "execution_count": null,
   "metadata": {
    "executionInfo": {
     "elapsed": 154,
     "status": "ok",
     "timestamp": 1701570459979,
     "user": {
      "displayName": "Senthil Thanneermalai",
      "userId": "15648280146844306309"
     },
     "user_tz": 360
    },
    "id": "umAHnZrxHXTq",
    "scrolled": true,
    "tags": []
   },
   "outputs": [],
   "source": [
    "dataset.drop('Unnamed: 0', inplace=True, axis=1)"
   ]
  },
  {
   "cell_type": "code",
   "execution_count": null,
   "metadata": {
    "colab": {
     "base_uri": "https://localhost:8080/",
     "height": 419
    },
    "executionInfo": {
     "elapsed": 149,
     "status": "ok",
     "timestamp": 1701570460639,
     "user": {
      "displayName": "Senthil Thanneermalai",
      "userId": "15648280146844306309"
     },
     "user_tz": 360
    },
    "id": "TDnGPFZsIPF8",
    "outputId": "f561f4e3-a802-4eac-ddd0-b797e4764477",
    "tags": []
   },
   "outputs": [],
   "source": [
    "dataset"
   ]
  },
  {
   "cell_type": "code",
   "execution_count": null,
   "metadata": {
    "colab": {
     "base_uri": "https://localhost:8080/"
    },
    "executionInfo": {
     "elapsed": 142,
     "status": "ok",
     "timestamp": 1701570461425,
     "user": {
      "displayName": "Senthil Thanneermalai",
      "userId": "15648280146844306309"
     },
     "user_tz": 360
    },
    "id": "JDB3gtbrHXTq",
    "outputId": "737b2b84-e12e-40cb-fbfe-e3c2dc34427c",
    "tags": []
   },
   "outputs": [],
   "source": [
    "print('Dataset Shape:', dataset.shape)"
   ]
  },
  {
   "cell_type": "code",
   "execution_count": null,
   "metadata": {
    "colab": {
     "base_uri": "https://localhost:8080/"
    },
    "executionInfo": {
     "elapsed": 2954,
     "status": "ok",
     "timestamp": 1701570465030,
     "user": {
      "displayName": "Senthil Thanneermalai",
      "userId": "15648280146844306309"
     },
     "user_tz": 360
    },
    "id": "aX-OzGSBIdfa",
    "outputId": "335364f9-6d35-44a1-abf5-a7f454373f5e",
    "tags": []
   },
   "outputs": [],
   "source": [
    "for index, row in dataset.iterrows():\n",
    "  print(row['Image_path'])\n",
    "  row['Image_path'] = 'Scanned Images/' + row['Image_path'] + '.png'"
   ]
  },
  {
   "cell_type": "code",
   "execution_count": null,
   "metadata": {
    "colab": {
     "base_uri": "https://localhost:8080/"
    },
    "executionInfo": {
     "elapsed": 113,
     "status": "ok",
     "timestamp": 1701570466297,
     "user": {
      "displayName": "Senthil Thanneermalai",
      "userId": "15648280146844306309"
     },
     "user_tz": 360
    },
    "id": "afzdo3kmHXTu",
    "outputId": "5f7380bf-6c43-4ac0-ec0a-14846700d5cc",
    "scrolled": true,
    "tags": []
   },
   "outputs": [],
   "source": [
    "print('Number of Images:', dataset['Image_path'].nunique())"
   ]
  },
  {
   "cell_type": "code",
   "execution_count": null,
   "metadata": {
    "executionInfo": {
     "elapsed": 121,
     "status": "ok",
     "timestamp": 1701570466961,
     "user": {
      "displayName": "Senthil Thanneermalai",
      "userId": "15648280146844306309"
     },
     "user_tz": 360
    },
    "id": "pHQRr-PhHXTu",
    "tags": []
   },
   "outputs": [],
   "source": [
    "dataset = dataset.dropna(axis=0)"
   ]
  },
  {
   "cell_type": "code",
   "execution_count": null,
   "metadata": {
    "colab": {
     "base_uri": "https://localhost:8080/"
    },
    "executionInfo": {
     "elapsed": 126,
     "status": "ok",
     "timestamp": 1701570467673,
     "user": {
      "displayName": "Senthil Thanneermalai",
      "userId": "15648280146844306309"
     },
     "user_tz": 360
    },
    "id": "4qrQ0CYOHXTu",
    "outputId": "ffdde71e-a7b3-47d3-e5ac-9cc3e92a203c",
    "tags": []
   },
   "outputs": [],
   "source": [
    "dataset.isnull().sum()"
   ]
  },
  {
   "cell_type": "code",
   "execution_count": null,
   "metadata": {
    "colab": {
     "base_uri": "https://localhost:8080/"
    },
    "executionInfo": {
     "elapsed": 4,
     "status": "ok",
     "timestamp": 1701570468240,
     "user": {
      "displayName": "Senthil Thanneermalai",
      "userId": "15648280146844306309"
     },
     "user_tz": 360
    },
    "id": "Aasrb6dsHXTv",
    "outputId": "eb5e106e-e195-45b3-a767-397e215c7d3d",
    "tags": []
   },
   "outputs": [],
   "source": [
    "print(dataset.shape)"
   ]
  },
  {
   "cell_type": "code",
   "execution_count": null,
   "metadata": {
    "colab": {
     "base_uri": "https://localhost:8080/",
     "height": 421
    },
    "executionInfo": {
     "elapsed": 127,
     "status": "ok",
     "timestamp": 1701570468956,
     "user": {
      "displayName": "Senthil Thanneermalai",
      "userId": "15648280146844306309"
     },
     "user_tz": 360
    },
    "id": "q1dSpl2jHXTv",
    "outputId": "cc389212-a1c8-4582-ceb3-fc2955c58434",
    "tags": []
   },
   "outputs": [],
   "source": [
    "dataset.head(12)"
   ]
  },
  {
   "cell_type": "code",
   "execution_count": null,
   "metadata": {
    "executionInfo": {
     "elapsed": 128,
     "status": "ok",
     "timestamp": 1701570470716,
     "user": {
      "displayName": "Senthil Thanneermalai",
      "userId": "15648280146844306309"
     },
     "user_tz": 360
    },
    "id": "UzaxVwVtW4wa",
    "tags": []
   },
   "outputs": [],
   "source": [
    "mapping = defaultdict(int)\n",
    "find = {}\n",
    "for imgPath, findings in dataset.values:\n",
    "  text = imgPath.split('-')\n",
    "  text.pop(len(text)-1)\n",
    "  newText = '-'.join(text)\n",
    "  mapping[newText]+=1\n",
    "  find[newText] = findings\n",
    "\n"
   ]
  },
  {
   "cell_type": "code",
   "execution_count": null,
   "metadata": {
    "executionInfo": {
     "elapsed": 125,
     "status": "ok",
     "timestamp": 1701570471928,
     "user": {
      "displayName": "Senthil Thanneermalai",
      "userId": "15648280146844306309"
     },
     "user_tz": 360
    },
    "id": "J9RBFox2HXTx",
    "tags": []
   },
   "outputs": [],
   "source": [
    "def splitData(mapping):\n",
    "    persons = list(mapping.keys())\n",
    "    persons_train = persons[:3100]\n",
    "    persons_cv = persons[3100:3200]\n",
    "    persons_test = persons[3200:]\n",
    "    return persons_train, persons_cv, persons_test"
   ]
  },
  {
   "cell_type": "code",
   "execution_count": null,
   "metadata": {
    "executionInfo": {
     "elapsed": 129,
     "status": "ok",
     "timestamp": 1701570472810,
     "user": {
      "displayName": "Senthil Thanneermalai",
      "userId": "15648280146844306309"
     },
     "user_tz": 360
    },
    "id": "jDgFjUp0HXTx",
    "tags": []
   },
   "outputs": [],
   "source": [
    "train, cv, test = splitData(mapping)"
   ]
  },
  {
   "cell_type": "code",
   "execution_count": null,
   "metadata": {
    "executionInfo": {
     "elapsed": 113,
     "status": "ok",
     "timestamp": 1701570473794,
     "user": {
      "displayName": "Senthil Thanneermalai",
      "userId": "15648280146844306309"
     },
     "user_tz": 360
    },
    "id": "scnNBnc3Eo-q",
    "tags": []
   },
   "outputs": [],
   "source": [
    "def mapImageId(images):\n",
    "\n",
    "  mapDict = defaultdict(list)\n",
    "  for id in images:\n",
    "    for row in dataset['Image_path'].values:\n",
    "      if id in row:\n",
    "        mapDict[id].append(row)\n",
    "  return mapDict"
   ]
  },
  {
   "cell_type": "code",
   "execution_count": null,
   "metadata": {
    "executionInfo": {
     "elapsed": 2206,
     "status": "ok",
     "timestamp": 1701570476618,
     "user": {
      "displayName": "Senthil Thanneermalai",
      "userId": "15648280146844306309"
     },
     "user_tz": 360
    },
    "id": "yRZTeIAPHXTy",
    "tags": []
   },
   "outputs": [],
   "source": [
    "trainMap = mapImageId(train)\n",
    "cvMap = mapImageId(cv)\n",
    "testMap = mapImageId(test)"
   ]
  },
  {
   "cell_type": "code",
   "execution_count": null,
   "metadata": {
    "colab": {
     "base_uri": "https://localhost:8080/"
    },
    "executionInfo": {
     "elapsed": 4,
     "status": "ok",
     "timestamp": 1701570476618,
     "user": {
      "displayName": "Senthil Thanneermalai",
      "userId": "15648280146844306309"
     },
     "user_tz": 360
    },
    "id": "Wim-zUxPHXTy",
    "outputId": "84109588-20ee-4f76-8712-73e4099775b3",
    "tags": []
   },
   "outputs": [],
   "source": [
    "len(testMap), len(testMap)"
   ]
  },
  {
   "cell_type": "code",
   "execution_count": null,
   "metadata": {
    "executionInfo": {
     "elapsed": 164,
     "status": "ok",
     "timestamp": 1701570477468,
     "user": {
      "displayName": "Senthil Thanneermalai",
      "userId": "15648280146844306309"
     },
     "user_tz": 360
    },
    "id": "kwVQPQpcHXT1"
   },
   "outputs": [],
   "source": []
  },
  {
   "cell_type": "code",
   "execution_count": null,
   "metadata": {
    "colab": {
     "base_uri": "https://localhost:8080/"
    },
    "executionInfo": {
     "elapsed": 2,
     "status": "ok",
     "timestamp": 1701570477790,
     "user": {
      "displayName": "Senthil Thanneermalai",
      "userId": "15648280146844306309"
     },
     "user_tz": 360
    },
    "id": "D9Yhin9SIl9j",
    "outputId": "162c2bdc-7dcb-4d05-f080-7f8aff369ac9"
   },
   "outputs": [],
   "source": [
    "count = 0\n",
    "for name, totalNum in mapping.items():\n",
    "  if totalNum == 1:\n",
    "    count+=1\n",
    "\n",
    "print(count)\n",
    "\n"
   ]
  },
  {
   "cell_type": "code",
   "execution_count": null,
   "metadata": {
    "executionInfo": {
     "elapsed": 112,
     "status": "ok",
     "timestamp": 1701570479414,
     "user": {
      "displayName": "Senthil Thanneermalai",
      "userId": "15648280146844306309"
     },
     "user_tz": 360
    },
    "id": "WoP_WK5IKsTr",
    "tags": []
   },
   "outputs": [],
   "source": [
    "def finalDataset(data):\n",
    "  image1 = []\n",
    "  image2 = []\n",
    "  patientId = []\n",
    "  report = []\n",
    "  for id, l in data.items():\n",
    "    if len(l) == 1:\n",
    "      patientId.append(id)\n",
    "      image1.append(l[0])\n",
    "      image2.append(l[0])\n",
    "      report.append(find[id])\n",
    "    elif len(l) == 2:\n",
    "      patientId.append(id)\n",
    "      image1.append(l[0])\n",
    "      image2.append(l[1])\n",
    "      report.append(find[id])\n",
    "\n",
    "  finalDataset = pd.DataFrame()\n",
    "  finalDataset['Person_id'] = patientId\n",
    "  finalDataset['Image1'] = image1\n",
    "  finalDataset['Image2'] = image2\n",
    "  finalDataset['Report'] = report\n",
    "  return finalDataset\n",
    "\n"
   ]
  },
  {
   "cell_type": "code",
   "execution_count": null,
   "metadata": {
    "executionInfo": {
     "elapsed": 142,
     "status": "ok",
     "timestamp": 1701570480685,
     "user": {
      "displayName": "Senthil Thanneermalai",
      "userId": "15648280146844306309"
     },
     "user_tz": 360
    },
    "id": "mhnxFEfzHXT0",
    "tags": []
   },
   "outputs": [],
   "source": [
    "train = finalDataset(trainMap)\n",
    "test = finalDataset(testMap)\n",
    "cv = finalDataset(cvMap)"
   ]
  },
  {
   "cell_type": "code",
   "execution_count": null,
   "metadata": {
    "tags": []
   },
   "outputs": [],
   "source": [
    "cv"
   ]
  },
  {
   "cell_type": "code",
   "execution_count": null,
   "metadata": {
    "colab": {
     "base_uri": "https://localhost:8080/",
     "height": 419
    },
    "executionInfo": {
     "elapsed": 151,
     "status": "ok",
     "timestamp": 1701570481501,
     "user": {
      "displayName": "Senthil Thanneermalai",
      "userId": "15648280146844306309"
     },
     "user_tz": 360
    },
    "id": "1AeXHv-cNTBA",
    "outputId": "982af68d-f8b0-4da4-f010-06e54d67528c",
    "tags": []
   },
   "outputs": [],
   "source": [
    "cv['Report'][0]"
   ]
  },
  {
   "cell_type": "code",
   "execution_count": null,
   "metadata": {},
   "outputs": [],
   "source": []
  },
  {
   "cell_type": "markdown",
   "metadata": {
    "id": "kD8a3E8AHXT1"
   },
   "source": [
    "## Text Cleaning"
   ]
  },
  {
   "cell_type": "code",
   "execution_count": null,
   "metadata": {
    "executionInfo": {
     "elapsed": 3423,
     "status": "ok",
     "timestamp": 1701570490121,
     "user": {
      "displayName": "Senthil Thanneermalai",
      "userId": "15648280146844306309"
     },
     "user_tz": 360
    },
    "id": "qrEdS4dvUAPf"
   },
   "outputs": [],
   "source": [
    "import string\n",
    "import spacy\n",
    "import nltk\n",
    "from nltk.corpus import stopwords\n",
    "import re\n",
    "import contractions\n",
    "#nltk.download('stopwords')\n",
    "def textPreProcessing(text):\n",
    "    lowerCase = text.lower()\n",
    "\n",
    "    expanded = []\n",
    "    for word in lowerCase.split():\n",
    "        expanded.append(contractions.fix(word)) #expand contractions\n",
    "    expandedWords = ' '.join(expanded)\n",
    "    punctuations = string.punctuation\n",
    "    newString = \"\"\n",
    "    for char in punctuations:\n",
    "      if char != '.':\n",
    "        newString+=char\n",
    "    punctuations = newString\n",
    "    temp = \"\"\n",
    "    for char in expandedWords:                      #Lowercase\n",
    "\n",
    "        if char not in punctuations:            #Remove punctuations\n",
    "            temp+=char\n",
    "    noPunct = temp\n",
    "    res = re.sub(' +', ' ', noPunct)            #Remove extra spaces\n",
    "    temp = \"\"\n",
    "    for char in res:\n",
    "        if char.isnumeric() == True:\n",
    "            continue\n",
    "        else:\n",
    "            temp+=char\n",
    "\n",
    "    temp = re.sub(r'x*','',temp)\n",
    "    mystring = temp.replace(\"'\", \"\")\n",
    "    return mystring\n"
   ]
  },
  {
   "cell_type": "code",
   "execution_count": null,
   "metadata": {
    "colab": {
     "base_uri": "https://localhost:8080/"
    },
    "executionInfo": {
     "elapsed": 143,
     "status": "ok",
     "timestamp": 1701569161255,
     "user": {
      "displayName": "Senthil Thanneermalai",
      "userId": "15648280146844306309"
     },
     "user_tz": 360
    },
    "id": "7fchDLHuaKG5",
    "outputId": "09238778-b070-4312-cf4a-a2610dd63998"
   },
   "outputs": [],
   "source": [
    "punctuations = string.punctuation\n",
    "print(punctuations)\n",
    "newString = \"\"\n",
    "for char in punctuations:\n",
    "  if char != '.':\n",
    "    newString+=char"
   ]
  },
  {
   "cell_type": "code",
   "execution_count": null,
   "metadata": {
    "executionInfo": {
     "elapsed": 940,
     "status": "ok",
     "timestamp": 1701570492697,
     "user": {
      "displayName": "Senthil Thanneermalai",
      "userId": "15648280146844306309"
     },
     "user_tz": 360
    },
    "id": "BIIXY1QWHXT1"
   },
   "outputs": [],
   "source": [
    "for index, row in train.iterrows():\n",
    "  row['Report'] = textPreProcessing(row['Report'])\n",
    "\n",
    "for index, row in test.iterrows():\n",
    "  row['Report'] = textPreProcessing(row['Report'])\n",
    "\n",
    "for index, row in cv.iterrows():\n",
    "  row['Report'] = textPreProcessing(row['Report'])\n",
    "\n",
    "\n",
    "\n",
    "\n",
    "#train['Report'] = textPreProcessing(train['Report'])\n",
    "##test['Report'] = textPreProcessing(test['Report'])\n",
    "#cv['Report'] = textPreProcessing(cv['Report'])"
   ]
  },
  {
   "cell_type": "code",
   "execution_count": null,
   "metadata": {
    "colab": {
     "base_uri": "https://localhost:8080/"
    },
    "executionInfo": {
     "elapsed": 8056,
     "status": "ok",
     "timestamp": 1701565878118,
     "user": {
      "displayName": "Senthil Thanneermalai",
      "userId": "15648280146844306309"
     },
     "user_tz": 360
    },
    "id": "FqbXoEVIOpK9",
    "outputId": "00585c60-91aa-449e-a504-b9bb42f5ecc3"
   },
   "outputs": [],
   "source": [
    "%pip install contractions"
   ]
  },
  {
   "cell_type": "code",
   "execution_count": null,
   "metadata": {
    "colab": {
     "base_uri": "https://localhost:8080/",
     "height": 52
    },
    "executionInfo": {
     "elapsed": 174,
     "status": "ok",
     "timestamp": 1701569178839,
     "user": {
      "displayName": "Senthil Thanneermalai",
      "userId": "15648280146844306309"
     },
     "user_tz": 360
    },
    "id": "aS3pWlTkHXT1",
    "outputId": "4ed1042f-61a8-4aec-d464-6402e74bde88"
   },
   "outputs": [],
   "source": [
    "train['Report'][500]"
   ]
  },
  {
   "cell_type": "code",
   "execution_count": null,
   "metadata": {
    "id": "1OHr77QyHXT1"
   },
   "outputs": [],
   "source": [
    "l = [len(e.split()) for e in train['Report'].values]  # Number of words in each report"
   ]
  },
  {
   "cell_type": "code",
   "execution_count": null,
   "metadata": {
    "colab": {
     "base_uri": "https://localhost:8080/"
    },
    "executionInfo": {
     "elapsed": 4,
     "status": "ok",
     "timestamp": 1701569214342,
     "user": {
      "displayName": "Senthil Thanneermalai",
      "userId": "15648280146844306309"
     },
     "user_tz": 360
    },
    "id": "gzDbyPnzHXT1",
    "outputId": "76821993-abea-4940-cad5-31dc915ddefd"
   },
   "outputs": [],
   "source": [
    "max(l)"
   ]
  },
  {
   "cell_type": "code",
   "execution_count": null,
   "metadata": {
    "id": "k86KZmVMHXT2"
   },
   "outputs": [],
   "source": [
    "w = WordCloud(height=1500, width=1500).generate(str(l))"
   ]
  },
  {
   "cell_type": "code",
   "execution_count": null,
   "metadata": {
    "colab": {
     "base_uri": "https://localhost:8080/",
     "height": 1000
    },
    "executionInfo": {
     "elapsed": 1888,
     "status": "ok",
     "timestamp": 1701567962984,
     "user": {
      "displayName": "Senthil Thanneermalai",
      "userId": "15648280146844306309"
     },
     "user_tz": 360
    },
    "id": "Is_rKFG4HXT2",
    "outputId": "c06fa921-fed0-4df1-ffd0-07b9b4ed88a4"
   },
   "outputs": [],
   "source": [
    "plt.figure(figsize=(12,12))\n",
    "plt.title('WordCloud of Reports')\n",
    "plt.imshow(w)"
   ]
  },
  {
   "cell_type": "code",
   "execution_count": null,
   "metadata": {
    "executionInfo": {
     "elapsed": 987,
     "status": "ok",
     "timestamp": 1701570503449,
     "user": {
      "displayName": "Senthil Thanneermalai",
      "userId": "15648280146844306309"
     },
     "user_tz": 360
    },
    "id": "dCRzH0pKHXT2"
   },
   "outputs": [],
   "source": [
    "for index, row in train.iterrows():\n",
    "  row['Report'] = 'startseq' + ' ' + textPreProcessing(row['Report']) + ' ' + 'endseq'\n",
    "\n",
    "for index, row in test.iterrows():\n",
    "  row['Report'] = 'startseq' + ' ' + textPreProcessing(row['Report']) + ' ' + 'endseq'\n",
    "\n",
    "for index, row in cv.iterrows():\n",
    "  row['Report'] = 'startseq' + ' ' + textPreProcessing(row['Report']) + ' ' + 'endseq'"
   ]
  },
  {
   "cell_type": "code",
   "execution_count": null,
   "metadata": {
    "executionInfo": {
     "elapsed": 134,
     "status": "ok",
     "timestamp": 1701570511520,
     "user": {
      "displayName": "Senthil Thanneermalai",
      "userId": "15648280146844306309"
     },
     "user_tz": 360
    },
    "id": "CPk2M3T1HXT2"
   },
   "outputs": [],
   "source": [
    "# save the cleaned data(STRUCTURED DATA)\n",
    "train.to_csv('train_Data.csv', index=False)\n",
    "test.to_csv('test_Data.csv', index=False)\n",
    "cv.to_csv('cv_Data.csv', index=False)"
   ]
  },
  {
   "cell_type": "code",
   "execution_count": null,
   "metadata": {
    "colab": {
     "base_uri": "https://localhost:8080/",
     "height": 52
    },
    "executionInfo": {
     "elapsed": 126,
     "status": "ok",
     "timestamp": 1701570506990,
     "user": {
      "displayName": "Senthil Thanneermalai",
      "userId": "15648280146844306309"
     },
     "user_tz": 360
    },
    "id": "sfNDMC8AY__i",
    "outputId": "75d879aa-7c48-4ed1-b3af-11e512893df0"
   },
   "outputs": [],
   "source": [
    "train['Report'][0]"
   ]
  },
  {
   "cell_type": "code",
   "execution_count": null,
   "metadata": {
    "id": "juR4_6G2ZBBo",
    "tags": []
   },
   "outputs": [],
   "source": [
    "mapping"
   ]
  },
  {
   "cell_type": "code",
   "execution_count": null,
   "metadata": {},
   "outputs": [],
   "source": []
  }
 ],
 "metadata": {
  "accelerator": "GPU",
  "colab": {
   "provenance": []
  },
  "kernelspec": {
   "display_name": "Python 3 (ipykernel)",
   "language": "python",
   "name": "python3"
  },
  "language_info": {
   "codemirror_mode": {
    "name": "ipython",
    "version": 3
   },
   "file_extension": ".py",
   "mimetype": "text/x-python",
   "name": "python",
   "nbconvert_exporter": "python",
   "pygments_lexer": "ipython3",
   "version": "3.11.4"
  }
 },
 "nbformat": 4,
 "nbformat_minor": 4
}
